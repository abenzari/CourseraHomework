{
 "cells": [
  {
   "cell_type": "markdown",
   "id": "17facfea-284e-4c9d-928a-a1c1980ccb48",
   "metadata": {},
   "source": [
    "# Data science Tools and ecosystem"
   ]
  },
  {
   "cell_type": "markdown",
   "id": "4071f50b-955d-4bd7-9cee-43e8bf082364",
   "metadata": {},
   "source": [
    "In this notebook, Data Science Tools and Ecosystem are summarized\n",
    "\n",
    "\n",
    "\n",
    "\n",
    "\n"
   ]
  },
  {
   "cell_type": "markdown",
   "id": "292e6b9a-a21b-4ed1-9ed5-03f7548dda2f",
   "metadata": {},
   "source": [
    "Some of the popular languages that data scientists use are:\n",
    "1. Python\n",
    "1. R\n",
    "1. Scala\n",
    "1. Julia"
   ]
  },
  {
   "cell_type": "markdown",
   "id": "755dfdd5-b9f0-4d68-89b9-a0b5c85bb106",
   "metadata": {},
   "source": [
    "Some of the commonly used libraries used by Data Scientists include:\n",
    "* scikit\n",
    "* matplotlib\n",
    "* pandas"
   ]
  },
  {
   "cell_type": "markdown",
   "id": "83cde00a-4bbe-49fd-a6d6-0e86d6c63cd2",
   "metadata": {},
   "source": [
    "|Data Science Tools|\n",
    "|------------------|\n",
    "|Jupyter|\n",
    "|apache spark|\n",
    "|tensorflow|\n",
    "|IBM watson|"
   ]
  },
  {
   "cell_type": "markdown",
   "id": "4a229e88-69ad-4e73-be3e-cd00b431a40d",
   "metadata": {},
   "source": [
    "### Below are a few examples of evaluating arithmetic expressions in Python\n"
   ]
  },
  {
   "cell_type": "code",
   "execution_count": 1,
   "id": "2c8586f2-a024-466c-986e-780260d8f1f4",
   "metadata": {
    "tags": []
   },
   "outputs": [
    {
     "data": {
      "text/plain": [
       "3"
      ]
     },
     "execution_count": 1,
     "metadata": {},
     "output_type": "execute_result"
    }
   ],
   "source": [
    "1+2"
   ]
  },
  {
   "cell_type": "code",
   "execution_count": 2,
   "id": "68570fec-918a-445f-bd22-7519871420f2",
   "metadata": {
    "tags": []
   },
   "outputs": [
    {
     "data": {
      "text/plain": [
       "17"
      ]
     },
     "execution_count": 2,
     "metadata": {},
     "output_type": "execute_result"
    }
   ],
   "source": [
    "#This a simple arithmetic expression to mutiply then add integers\n",
    "(3*4)+5"
   ]
  },
  {
   "cell_type": "code",
   "execution_count": 3,
   "id": "3a45939f-1518-4f1f-8044-7d3b4d6aaebb",
   "metadata": {
    "tags": []
   },
   "outputs": [
    {
     "data": {
      "text/plain": [
       "3.3333333333333335"
      ]
     },
     "execution_count": 3,
     "metadata": {},
     "output_type": "execute_result"
    }
   ],
   "source": [
    "#This will convert 200 minutes to hours by diving by 60\n",
    "200/60"
   ]
  },
  {
   "cell_type": "markdown",
   "id": "2334ac88-c193-4018-be95-c5477813cc60",
   "metadata": {},
   "source": [
    "## Author\n",
    "Adam B."
   ]
  },
  {
   "cell_type": "code",
   "execution_count": null,
   "id": "913e53bd-9f84-44dd-ad16-7419c2f85dd1",
   "metadata": {},
   "outputs": [],
   "source": []
  }
 ],
 "metadata": {
  "kernelspec": {
   "display_name": "Python",
   "language": "python",
   "name": "conda-env-python-py"
  },
  "language_info": {
   "codemirror_mode": {
    "name": "ipython",
    "version": 3
   },
   "file_extension": ".py",
   "mimetype": "text/x-python",
   "name": "python",
   "nbconvert_exporter": "python",
   "pygments_lexer": "ipython3",
   "version": "3.7.12"
  }
 },
 "nbformat": 4,
 "nbformat_minor": 5
}
